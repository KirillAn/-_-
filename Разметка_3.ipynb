{
 "cells": [
  {
   "cell_type": "code",
   "execution_count": 70,
   "id": "5ebe6312",
   "metadata": {},
   "outputs": [],
   "source": [
    "import pandas as pd\n",
    "import requests\n",
    "from PIL import Image\n",
    "from io import BytesIO\n",
    "import os\n",
    "import ast\n",
    "import numpy as np\n",
    "import string\n",
    "from nltk.corpus import stopwords\n",
    "from collections import Counter\n",
    "\n",
    "\n",
    "from sklearn.model_selection import train_test_split\n",
    "from sklearn.feature_extraction.text import TfidfVectorizer\n",
    "from sklearn.linear_model import LogisticRegression\n",
    "from sklearn.utils import resample\n",
    "from sklearn.naive_bayes import MultinomialNB\n",
    "from sklearn.pipeline import make_pipeline\n",
    "from sklearn.metrics import classification_report, accuracy_score\n",
    "\n",
    "from textblob import TextBlob\n",
    "\n",
    "pd.set_option('display.max_rows', 500)\n",
    "pd.set_option('display.max_columns', 500)\n",
    "pd.set_option('display.width', 1000)\n",
    "pd.set_option('float_format', '{:f}'.format)"
   ]
  },
  {
   "cell_type": "markdown",
   "id": "785298e7",
   "metadata": {},
   "source": [
    "#### Датасет\n",
    "\n",
    "Был найден мультимодалный датасет с текстовыми отзывами и изображениями, приложенными к некоторым отзывам. Связка данных заключается в сочетании текстовой информации с соответствующими изображениями. "
   ]
  },
  {
   "cell_type": "code",
   "execution_count": 40,
   "id": "25a211ca",
   "metadata": {},
   "outputs": [
    {
     "data": {
      "text/html": [
       "<div>\n",
       "<style scoped>\n",
       "    .dataframe tbody tr th:only-of-type {\n",
       "        vertical-align: middle;\n",
       "    }\n",
       "\n",
       "    .dataframe tbody tr th {\n",
       "        vertical-align: top;\n",
       "    }\n",
       "\n",
       "    .dataframe thead th {\n",
       "        text-align: right;\n",
       "    }\n",
       "</style>\n",
       "<table border=\"1\" class=\"dataframe\">\n",
       "  <thead>\n",
       "    <tr style=\"text-align: right;\">\n",
       "      <th></th>\n",
       "      <th>name</th>\n",
       "      <th>location</th>\n",
       "      <th>Date</th>\n",
       "      <th>Review</th>\n",
       "      <th>Image_Links</th>\n",
       "    </tr>\n",
       "  </thead>\n",
       "  <tbody>\n",
       "    <tr>\n",
       "      <th>0</th>\n",
       "      <td>Helen</td>\n",
       "      <td>Wichita Falls, TX</td>\n",
       "      <td>Reviewed Sept. 13, 2023</td>\n",
       "      <td>Amber and LaDonna at the Starbucks on Southwes...</td>\n",
       "      <td>['No Images']</td>\n",
       "    </tr>\n",
       "    <tr>\n",
       "      <th>1</th>\n",
       "      <td>Courtney</td>\n",
       "      <td>Apopka, FL</td>\n",
       "      <td>Reviewed July 16, 2023</td>\n",
       "      <td>** at the Starbucks by the fire station on 436...</td>\n",
       "      <td>['No Images']</td>\n",
       "    </tr>\n",
       "    <tr>\n",
       "      <th>2</th>\n",
       "      <td>Daynelle</td>\n",
       "      <td>Cranberry Twp, PA</td>\n",
       "      <td>Reviewed July 5, 2023</td>\n",
       "      <td>I just wanted to go out of my way to recognize...</td>\n",
       "      <td>['https://media.consumeraffairs.com/files/cach...</td>\n",
       "    </tr>\n",
       "    <tr>\n",
       "      <th>3</th>\n",
       "      <td>Taylor</td>\n",
       "      <td>Seattle, WA</td>\n",
       "      <td>Reviewed May 26, 2023</td>\n",
       "      <td>Me and my friend were at Starbucks and my card...</td>\n",
       "      <td>['No Images']</td>\n",
       "    </tr>\n",
       "    <tr>\n",
       "      <th>4</th>\n",
       "      <td>Tenessa</td>\n",
       "      <td>Gresham, OR</td>\n",
       "      <td>Reviewed Jan. 22, 2023</td>\n",
       "      <td>I’m on this kick of drinking 5 cups of warm wa...</td>\n",
       "      <td>['https://media.consumeraffairs.com/files/cach...</td>\n",
       "    </tr>\n",
       "  </tbody>\n",
       "</table>\n",
       "</div>"
      ],
      "text/plain": [
       "       name           location                     Date                                             Review                                        Image_Links\n",
       "0     Helen  Wichita Falls, TX  Reviewed Sept. 13, 2023  Amber and LaDonna at the Starbucks on Southwes...                                      ['No Images']\n",
       "1  Courtney         Apopka, FL   Reviewed July 16, 2023  ** at the Starbucks by the fire station on 436...                                      ['No Images']\n",
       "2  Daynelle  Cranberry Twp, PA    Reviewed July 5, 2023  I just wanted to go out of my way to recognize...  ['https://media.consumeraffairs.com/files/cach...\n",
       "3    Taylor        Seattle, WA    Reviewed May 26, 2023  Me and my friend were at Starbucks and my card...                                      ['No Images']\n",
       "4   Tenessa        Gresham, OR   Reviewed Jan. 22, 2023  I’m on this kick of drinking 5 cups of warm wa...  ['https://media.consumeraffairs.com/files/cach..."
      ]
     },
     "execution_count": 40,
     "metadata": {},
     "output_type": "execute_result"
    }
   ],
   "source": [
    "data = pd.read_csv('/Users/kirillanosov/Downloads/reviews_data (2).csv',sep =';')\n",
    "\n",
    "data.head()"
   ]
  },
  {
   "cell_type": "markdown",
   "id": "5a74f452",
   "metadata": {},
   "source": [
    "### Предварительная обработка данных\n",
    "\n",
    "Текст"
   ]
  },
  {
   "cell_type": "code",
   "execution_count": 49,
   "id": "9a6e3239",
   "metadata": {},
   "outputs": [
    {
     "name": "stderr",
     "output_type": "stream",
     "text": [
      "/var/folders/bl/1vdqdmkn7cn_t9d3tk6b0pdw0000gn/T/ipykernel_23167/386460133.py:10: SettingWithCopyWarning: \n",
      "A value is trying to be set on a copy of a slice from a DataFrame.\n",
      "Try using .loc[row_indexer,col_indexer] = value instead\n",
      "\n",
      "See the caveats in the documentation: https://pandas.pydata.org/pandas-docs/stable/user_guide/indexing.html#returning-a-view-versus-a-copy\n",
      "  data['Cleaned_Review'] = data['Review'].apply(clean_text)\n"
     ]
    }
   ],
   "source": [
    "# убираем строки без отзывов\n",
    "data = data.query('Review !=\"No Review Text\"')\n",
    "\n",
    "# приводим текстовые данные в нужный вид\n",
    "def clean_text(text):\n",
    "    text = text.lower()\n",
    "    text = ''.join([char for char in text if char not in string.punctuation])\n",
    "    text = ' '.join([word for word in text.split() if word not in stopwords.words('english')])\n",
    "    return text\n",
    "\n",
    "data['Cleaned_Review'] = data['Review'].apply(clean_text)\n"
   ]
  },
  {
   "cell_type": "markdown",
   "id": "684ed808",
   "metadata": {},
   "source": [
    "#### Изображения"
   ]
  },
  {
   "cell_type": "code",
   "execution_count": 75,
   "id": "d5bf29cf",
   "metadata": {},
   "outputs": [
    {
     "name": "stderr",
     "output_type": "stream",
     "text": [
      "/var/folders/bl/1vdqdmkn7cn_t9d3tk6b0pdw0000gn/T/ipykernel_23167/4081345460.py:10: SettingWithCopyWarning: \n",
      "A value is trying to be set on a copy of a slice from a DataFrame.\n",
      "Try using .loc[row_indexer,col_indexer] = value instead\n",
      "\n",
      "See the caveats in the documentation: https://pandas.pydata.org/pandas-docs/stable/user_guide/indexing.html#returning-a-view-versus-a-copy\n",
      "  data['extracted_urls'] = data['Image_Links'].apply(extract_urls)\n"
     ]
    },
    {
     "name": "stdout",
     "output_type": "stream",
     "text": [
      "Изображение сохранено: path_to_save/image_2_0.jpg\n",
      "Изображение сохранено: path_to_save/image_4_0.jpg\n",
      "Изображение сохранено: path_to_save/image_4_1.jpg\n",
      "Изображение сохранено: path_to_save/image_10_0.jpg\n",
      "Изображение сохранено: path_to_save/image_18_0.jpg\n",
      "Изображение сохранено: path_to_save/image_18_1.jpg\n",
      "Изображение сохранено: path_to_save/image_20_0.jpg\n",
      "Изображение сохранено: path_to_save/image_23_0.jpg\n",
      "Изображение сохранено: path_to_save/image_28_0.jpg\n",
      "Изображение сохранено: path_to_save/image_32_0.jpg\n",
      "Изображение сохранено: path_to_save/image_33_0.jpg\n",
      "Изображение сохранено: path_to_save/image_43_0.jpg\n",
      "Изображение сохранено: path_to_save/image_67_0.jpg\n",
      "Изображение сохранено: path_to_save/image_70_0.jpg\n",
      "Изображение сохранено: path_to_save/image_81_0.jpg\n",
      "Изображение сохранено: path_to_save/image_81_1.jpg\n",
      "Изображение сохранено: path_to_save/image_94_0.jpg\n",
      "Изображение сохранено: path_to_save/image_98_0.jpg\n",
      "Изображение сохранено: path_to_save/image_109_0.jpg\n",
      "Изображение сохранено: path_to_save/image_128_0.jpg\n",
      "Изображение сохранено: path_to_save/image_144_0.jpg\n",
      "Изображение сохранено: path_to_save/image_152_0.jpg\n",
      "Изображение сохранено: path_to_save/image_156_0.jpg\n",
      "Изображение сохранено: path_to_save/image_171_0.jpg\n",
      "Изображение сохранено: path_to_save/image_171_1.jpg\n",
      "Изображение сохранено: path_to_save/image_171_2.jpg\n",
      "Изображение сохранено: path_to_save/image_171_3.jpg\n",
      "Изображение сохранено: path_to_save/image_171_4.jpg\n",
      "Изображение сохранено: path_to_save/image_171_5.jpg\n",
      "Изображение сохранено: path_to_save/image_178_0.jpg\n",
      "Изображение сохранено: path_to_save/image_178_1.jpg\n",
      "Изображение сохранено: path_to_save/image_194_0.jpg\n",
      "Изображение сохранено: path_to_save/image_194_1.jpg\n",
      "Изображение сохранено: path_to_save/image_194_2.jpg\n",
      "Изображение сохранено: path_to_save/image_208_0.jpg\n",
      "Изображение сохранено: path_to_save/image_209_0.jpg\n",
      "Изображение сохранено: path_to_save/image_226_0.jpg\n",
      "Изображение сохранено: path_to_save/image_246_0.jpg\n",
      "Изображение сохранено: path_to_save/image_255_0.jpg\n",
      "Изображение сохранено: path_to_save/image_258_0.jpg\n",
      "Изображение сохранено: path_to_save/image_262_0.jpg\n",
      "Изображение сохранено: path_to_save/image_262_1.jpg\n",
      "Изображение сохранено: path_to_save/image_282_0.jpg\n",
      "Изображение сохранено: path_to_save/image_282_1.jpg\n",
      "Изображение сохранено: path_to_save/image_290_0.jpg\n",
      "Изображение сохранено: path_to_save/image_290_1.jpg\n",
      "Изображение сохранено: path_to_save/image_290_2.jpg\n",
      "Изображение сохранено: path_to_save/image_422_0.jpg\n",
      "Изображение сохранено: path_to_save/image_422_1.jpg\n",
      "Изображение сохранено: path_to_save/image_422_2.jpg\n",
      "Изображение сохранено: path_to_save/image_429_0.jpg\n",
      "Изображение сохранено: path_to_save/image_431_0.jpg\n",
      "Изображение сохранено: path_to_save/image_431_1.jpg\n",
      "Изображение сохранено: path_to_save/image_460_0.jpg\n",
      "Изображение сохранено: path_to_save/image_461_0.jpg\n",
      "Изображение сохранено: path_to_save/image_471_0.jpg\n",
      "Изображение сохранено: path_to_save/image_479_0.jpg\n",
      "Изображение сохранено: path_to_save/image_479_1.jpg\n",
      "Изображение сохранено: path_to_save/image_482_0.jpg\n",
      "Изображение сохранено: path_to_save/image_530_0.jpg\n",
      "Изображение сохранено: path_to_save/image_530_1.jpg\n",
      "Изображение сохранено: path_to_save/image_530_2.jpg\n",
      "Изображение сохранено: path_to_save/image_530_3.jpg\n",
      "Изображение сохранено: path_to_save/image_530_4.jpg\n",
      "Изображение сохранено: path_to_save/image_530_5.jpg\n",
      "Изображение сохранено: path_to_save/image_538_0.jpg\n",
      "Изображение сохранено: path_to_save/image_542_0.jpg\n",
      "Изображение сохранено: path_to_save/image_542_1.jpg\n",
      "Изображение сохранено: path_to_save/image_542_2.jpg\n",
      "Изображение сохранено: path_to_save/image_542_3.jpg\n",
      "Изображение сохранено: path_to_save/image_609_0.jpg\n",
      "Изображение сохранено: path_to_save/image_609_1.jpg\n",
      "Изображение сохранено: path_to_save/image_618_0.jpg\n",
      "Изображение сохранено: path_to_save/image_627_0.jpg\n"
     ]
    },
    {
     "name": "stderr",
     "output_type": "stream",
     "text": [
      "/var/folders/bl/1vdqdmkn7cn_t9d3tk6b0pdw0000gn/T/ipykernel_23167/4081345460.py:42: SettingWithCopyWarning: \n",
      "A value is trying to be set on a copy of a slice from a DataFrame.\n",
      "Try using .loc[row_indexer,col_indexer] = value instead\n",
      "\n",
      "See the caveats in the documentation: https://pandas.pydata.org/pandas-docs/stable/user_guide/indexing.html#returning-a-view-versus-a-copy\n",
      "  data['image_paths'] = data.apply(add_image_paths, axis=1)\n"
     ]
    }
   ],
   "source": [
    "\n",
    "# Функция для извлечения URL из колонки\n",
    "def extract_urls(row):\n",
    "    try:\n",
    "        urls = ast.literal_eval(row)\n",
    "        urls = [url for url in urls if url.startswith('http')]\n",
    "        return urls\n",
    "    except:\n",
    "        return []\n",
    "\n",
    "data['extracted_urls'] = data['Image_Links'].apply(extract_urls)\n",
    "\n",
    "# Функция для скачивания и сохранения изображения\n",
    "def download_image(url, save_path):\n",
    "    response = requests.get(url)\n",
    "    if response.status_code == 200:\n",
    "        image = Image.open(BytesIO(response.content))\n",
    "        image.save(save_path)\n",
    "\n",
    "# Путь для сохранения изображений\n",
    "image_folder = 'path_to_save'  \n",
    "os.makedirs(image_folder, exist_ok=True)\n",
    "\n",
    "# Скачивание и сохранение изображений\n",
    "for index, row in data.iterrows():\n",
    "    for i, url in enumerate(row['extracted_urls']):\n",
    "        try:\n",
    "            file_path = os.path.join(image_folder, f'image_{index}_{i}.jpg')\n",
    "            download_image(url, file_path)\n",
    "            print(f'Изображение сохранено: {file_path}')\n",
    "        except Exception as e:\n",
    "            print(f'Не удалось скачать изображение: {url}. Ошибка: {e}')\n",
    "\n",
    "# Добавление пути сохраненных изображений к данным\n",
    "def add_image_paths(row):\n",
    "    image_paths = []\n",
    "    for i, _ in enumerate(row['extracted_urls']):\n",
    "        image_path = os.path.join(image_folder, f'image_{row.name}_{i}.jpg')\n",
    "        if os.path.exists(image_path):\n",
    "            image_paths.append(image_path)\n",
    "    return image_paths\n",
    "\n",
    "data['image_paths'] = data.apply(add_image_paths, axis=1)\n",
    "\n",
    "\n"
   ]
  },
  {
   "cell_type": "code",
   "execution_count": 58,
   "id": "81b818b4",
   "metadata": {},
   "outputs": [],
   "source": [
    "# изменяем размер изображения\n",
    "def resize_image(image_path, size=(128, 128)):\n",
    "    try:\n",
    "        with Image.open(image_path) as img:\n",
    "            img = img.resize(size)\n",
    "            img.save(image_path)\n",
    "    except Exception as e:\n",
    "        print(f\"Ошибка при изменении размера изображения: {e}\")\n",
    "\n",
    "\n",
    "for paths in data['image_paths']:\n",
    "    for path in paths:\n",
    "        resize_image(path)"
   ]
  },
  {
   "cell_type": "markdown",
   "id": "7d0a04fa",
   "metadata": {},
   "source": [
    "Вы можете использовать полученные мультимодальные данные для разработки моделей сентимент-анализа, визуализации результатов, изучения влияния изображений на оценку отзывов и других задач.\n",
    "\n"
   ]
  },
  {
   "cell_type": "markdown",
   "id": "c173814f",
   "metadata": {},
   "source": [
    "### Разметка"
   ]
  },
  {
   "cell_type": "code",
   "execution_count": 51,
   "id": "0c3c6af6",
   "metadata": {},
   "outputs": [
    {
     "name": "stderr",
     "output_type": "stream",
     "text": [
      "/var/folders/bl/1vdqdmkn7cn_t9d3tk6b0pdw0000gn/T/ipykernel_23167/169671644.py:14: SettingWithCopyWarning: \n",
      "A value is trying to be set on a copy of a slice from a DataFrame.\n",
      "Try using .loc[row_indexer,col_indexer] = value instead\n",
      "\n",
      "See the caveats in the documentation: https://pandas.pydata.org/pandas-docs/stable/user_guide/indexing.html#returning-a-view-versus-a-copy\n",
      "  data['Sentiment_Text'] = data['Review'].apply(get_sentiment)\n"
     ]
    }
   ],
   "source": [
    "# Функция для определения сентимента текста\n",
    "def get_sentiment(text):\n",
    "    analysis = TextBlob(text)\n",
    "    if analysis.sentiment.polarity > 0:\n",
    "        return \"Позитивный\"\n",
    "    elif analysis.sentiment.polarity < 0:\n",
    "        return \"Отрицательный\"\n",
    "    else:\n",
    "        return \"Нейтральный\"\n",
    "\n",
    "\n",
    "data['Sentiment_Text'] = data['Review'].apply(get_sentiment)\n"
   ]
  },
  {
   "cell_type": "code",
   "execution_count": 67,
   "id": "cea0ec96",
   "metadata": {},
   "outputs": [
    {
     "name": "stderr",
     "output_type": "stream",
     "text": [
      "/var/folders/bl/1vdqdmkn7cn_t9d3tk6b0pdw0000gn/T/ipykernel_23167/2744107119.py:8: SettingWithCopyWarning: \n",
      "A value is trying to be set on a copy of a slice from a DataFrame.\n",
      "Try using .loc[row_indexer,col_indexer] = value instead\n",
      "\n",
      "See the caveats in the documentation: https://pandas.pydata.org/pandas-docs/stable/user_guide/indexing.html#returning-a-view-versus-a-copy\n",
      "  data['sent_img'] = data.apply(sent_img, axis=1)\n"
     ]
    }
   ],
   "source": [
    "def sent_img(row):\n",
    "    if row['image_paths']:  \n",
    "        return row['Sentiment_Text']\n",
    "    else:\n",
    "        return 'No image'\n",
    "\n",
    "# Применяем функцию к DataFrame\n",
    "data['sent_img'] = data.apply(sent_img, axis=1)\n"
   ]
  },
  {
   "cell_type": "markdown",
   "id": "667cd1ef",
   "metadata": {},
   "source": [
    "### Результаты"
   ]
  },
  {
   "cell_type": "code",
   "execution_count": 50,
   "id": "a21a32b5",
   "metadata": {},
   "outputs": [
    {
     "data": {
      "image/png": "[encoded data removed]",
      "text/plain": [
       "<Figure size 640x480 with 1 Axes>"
      ]
     },
     "metadata": {},
     "output_type": "display_data"
    }
   ],
   "source": [
    "words = Counter(\" \".join(data[\"Cleaned_Review\"]).split()).most_common(10)\n",
    "words_df = pd.DataFrame(words, columns=['Word', 'Frequency'])\n",
    "\n",
    "sns.barplot(x='Frequency', y='Word', data=words_df)\n",
    "plt.title('Топ-10 часто встречающихся слов в отзывах')\n",
    "plt.show()\n"
   ]
  },
  {
   "cell_type": "code",
   "execution_count": 76,
   "id": "7485a042",
   "metadata": {},
   "outputs": [
    {
     "data": {
      "text/plain": [
       "sent_img\n",
       "No image         767\n",
       "Позитивный        23\n",
       "Отрицательный     22\n",
       "Нейтральный        1\n",
       "Name: count, dtype: int64"
      ]
     },
     "execution_count": 76,
     "metadata": {},
     "output_type": "execute_result"
    }
   ],
   "source": [
    "#сентименты изображений\n",
    "data['sent_img'].value_counts()"
   ]
  },
  {
   "cell_type": "code",
   "execution_count": 74,
   "id": "e5a1c49d",
   "metadata": {},
   "outputs": [
    {
     "data": {
      "text/plain": [
       "Sentiment_Text\n",
       "Позитивный       442\n",
       "Отрицательный    348\n",
       "Нейтральный       23\n",
       "Name: count, dtype: int64"
      ]
     },
     "execution_count": 74,
     "metadata": {},
     "output_type": "execute_result"
    }
   ],
   "source": [
    "#сентименты текстовых ревью\n",
    "data['Sentiment_Text'].value_counts()"
   ]
  },
  {
   "cell_type": "markdown",
   "id": "c1ec9986",
   "metadata": {},
   "source": [
    "### Кейсы использования\n",
    "\n",
    "Эти данные могут быть использованы для разработки моделей машинного обучения, направленных на сентимент-анализ, а также для изучения взаимосвязи между визуальной и текстовой информацией в отзывах.\n",
    "\n",
    "\n"
   ]
  },
  {
   "cell_type": "code",
   "execution_count": null,
   "id": "049b9b91",
   "metadata": {},
   "outputs": [],
   "source": []
  }
 ],
 "metadata": {
  "kernelspec": {
   "display_name": "Python 3 (ipykernel)",
   "language": "python",
   "name": "python3"
  },
  "language_info": {
   "codemirror_mode": {
    "name": "ipython",
    "version": 3
   },
   "file_extension": ".py",
   "mimetype": "text/x-python",
   "name": "python",
   "nbconvert_exporter": "python",
   "pygments_lexer": "ipython3",
   "version": "3.11.5"
  }
 },
 "nbformat": 4,
 "nbformat_minor": 5
}
